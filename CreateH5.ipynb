{
 "cells": [
  {
   "cell_type": "markdown",
   "metadata": {},
   "source": [
    "# Reverse Engineer the data\n",
    "Here we create the data that is needed for the cifar10 experiments by downloading the dataset and creating the appropriate downsamplings. Initial versions are super lazy just using numpy strides, but eventually a nice scipy zoom would be nice"
   ]
  },
  {
   "cell_type": "code",
   "execution_count": 12,
   "metadata": {
    "scrolled": false
   },
   "outputs": [],
   "source": [
    "import numpy as np\n",
    "import h5py\n",
    "import os\n",
    "use_real_cifar = True\n",
    "if use_real_cifar:\n",
    "    os.environ['KERAS_BACKEND'] = 'theano'\n",
    "    import keras.backend as K\n",
    "    K.set_image_dim_ordering('th')\n",
    "    from keras.datasets.cifar10 import load_data\n",
    "    (x_train, y_train), (x_test, y_test) = load_data()\n",
    "else:\n",
    "    x_train = np.random.uniform(0, 254, size = (1000, 3, 32, 32)).astype(np.uint8)"
   ]
  },
  {
   "cell_type": "code",
   "execution_count": 15,
   "metadata": {},
   "outputs": [],
   "source": [
    "with h5py.File('datasets/cifar-10-32x32.h5','w') as f:\n",
    "    base_data = x_train \n",
    "    for i in [32, 16, 8, 4, 2, 1]:\n",
    "        f.create_dataset('data{i}x{i}'.format(i=i), data = base_data[:,:,::(32//i),::(32//i)], compression = 'gzip')\n"
   ]
  },
  {
   "cell_type": "code",
   "execution_count": 14,
   "metadata": {},
   "outputs": [
    {
     "name": "stdout",
     "output_type": "stream",
     "text": [
      "(u'data16x16', (50000, 3, 16, 16))\n",
      "(u'data1x1', (50000, 3, 1, 1))\n",
      "(u'data2x2', (50000, 3, 2, 2))\n",
      "(u'data32x32', (50000, 3, 32, 32))\n",
      "(u'data4x4', (50000, 3, 4, 4))\n",
      "(u'data8x8', (50000, 3, 8, 8))\n"
     ]
    }
   ],
   "source": [
    "with h5py.File('datasets/cifar-10-32x32.h5','r') as f:\n",
    "    for k,v in f.items():\n",
    "        print(k, v.shape)"
   ]
  },
  {
   "cell_type": "code",
   "execution_count": null,
   "metadata": {
    "collapsed": true
   },
   "outputs": [],
   "source": []
  }
 ],
 "metadata": {
  "kernelspec": {
   "display_name": "Python [conda env:layergan]",
   "language": "python",
   "name": "conda-env-layergan-py"
  },
  "language_info": {
   "codemirror_mode": {
    "name": "ipython",
    "version": 2
   },
   "file_extension": ".py",
   "mimetype": "text/x-python",
   "name": "python",
   "nbconvert_exporter": "python",
   "pygments_lexer": "ipython2",
   "version": "2.7.14"
  }
 },
 "nbformat": 4,
 "nbformat_minor": 2
}
